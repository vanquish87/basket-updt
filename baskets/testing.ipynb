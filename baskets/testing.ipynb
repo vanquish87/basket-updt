{
 "cells": [
  {
   "cell_type": "markdown",
   "metadata": {},
   "source": [
    "Cash updates"
   ]
  },
  {
   "cell_type": "code",
   "execution_count": 30,
   "metadata": {},
   "outputs": [],
   "source": [
    "def allDateCash(cash, all_dates):\n",
    "    # created cashEOD_dict for cash_dates with corrosponding EOD cash value for that date\n",
    "    # Now each date will have 1 EOD cash value\n",
    "    cashEOD_dict = {}\n",
    "    \n",
    "    for i in cash:\n",
    "        cashEOD_dict[cash[i]['date']] = cash[i]['balance']\n",
    "\n",
    "    # created a allDate_dict for all_dates where if we have cash value for date as per cashEOD_dict\n",
    "    # then it will store cash value for it else, for next date onwards it will store\n",
    "    # previous cash value.. Mimicking a Bank statement \n",
    "    # if previous cash is not found that it's \n",
    "    allDate_dict = {}\n",
    "    for j in all_dates:\n",
    "        if j in cashEOD_dict:\n",
    "            allDate_dict[j] = cashEOD_dict[j]\n",
    "        else:\n",
    "            try:\n",
    "                allDate_dict[j] = allDate_dict[j - 1]\n",
    "            except:\n",
    "                allDate_dict[j] = 0\n",
    "\n",
    "    # print(cashEOD_dict)\n",
    "    # print(allDate_dict, end=\"\")\n",
    "    return allDate_dict"
   ]
  },
  {
   "cell_type": "code",
   "execution_count": 31,
   "metadata": {},
   "outputs": [],
   "source": [
    "cash_entry = [ 100, 102, 95, 105, 115, 105, 120, 122, 117, 120, 125, 122, 130]\n",
    "cash_dates = [2, 2, 5, 7, 7, 7, 11, 14, 14, 18, 18, 18, 18]\n"
   ]
  },
  {
   "cell_type": "markdown",
   "metadata": {},
   "source": [
    "Creating Cash Dict"
   ]
  },
  {
   "cell_type": "code",
   "execution_count": 32,
   "metadata": {},
   "outputs": [
    {
     "data": {
      "text/plain": [
       "{0: {'basket_id': 2, 'date': 2, 'balance': 100, 'cash_in': 100, 'cash_out': 0},\n",
       " 1: {'basket_id': 2, 'date': 2, 'balance': 102, 'cash_in': 2, 'cash_out': 0},\n",
       " 2: {'basket_id': 2, 'date': 5, 'balance': 95, 'cash_in': 0, 'cash_out': 7},\n",
       " 3: {'basket_id': 2, 'date': 7, 'balance': 105, 'cash_in': 10, 'cash_out': 0},\n",
       " 4: {'basket_id': 2, 'date': 7, 'balance': 115, 'cash_in': 10, 'cash_out': 0},\n",
       " 5: {'basket_id': 2, 'date': 7, 'balance': 105, 'cash_in': 0, 'cash_out': 10},\n",
       " 6: {'basket_id': 2, 'date': 11, 'balance': 120, 'cash_in': 15, 'cash_out': 0},\n",
       " 7: {'basket_id': 2, 'date': 14, 'balance': 122, 'cash_in': 2, 'cash_out': 0},\n",
       " 8: {'basket_id': 2, 'date': 14, 'balance': 117, 'cash_in': 0, 'cash_out': 5},\n",
       " 9: {'basket_id': 2, 'date': 18, 'balance': 120, 'cash_in': 3, 'cash_out': 0},\n",
       " 10: {'basket_id': 2, 'date': 18, 'balance': 125, 'cash_in': 5, 'cash_out': 0},\n",
       " 11: {'basket_id': 2, 'date': 18, 'balance': 122, 'cash_in': 0, 'cash_out': 3},\n",
       " 12: {'basket_id': 2, 'date': 18, 'balance': 130, 'cash_in': 8, 'cash_out': 0}}"
      ]
     },
     "execution_count": 32,
     "metadata": {},
     "output_type": "execute_result"
    }
   ],
   "source": [
    "cash = {}\n",
    "\n",
    "def cashInorOut(cash):\n",
    "    # check difference in balance \n",
    "    try:\n",
    "        net = cash[i]['balance'] - cash[i-1]['balance']\n",
    "    except:\n",
    "        net = cash[i]['balance']\n",
    "\n",
    "    if net >= 0:\n",
    "        cash[i]['cash_in'] = net\n",
    "        cash[i]['cash_out'] = 0\n",
    "    else:\n",
    "        cash[i]['cash_in'] = 0\n",
    "        cash[i]['cash_out'] = - net\n",
    "\n",
    "for i in range(len(cash_dates)):\n",
    "    cash[i] = {\n",
    "        'basket_id': 2,\n",
    "        'date': cash_dates[i],\n",
    "        'balance': cash_entry[i],\n",
    "    }\n",
    "    cashInorOut(cash)\n",
    "\n",
    "cash"
   ]
  },
  {
   "cell_type": "code",
   "execution_count": 33,
   "metadata": {},
   "outputs": [
    {
     "data": {
      "text/plain": [
       "{1: 0,\n",
       " 2: 102,\n",
       " 3: 102,\n",
       " 4: 102,\n",
       " 5: 95,\n",
       " 6: 95,\n",
       " 7: 105,\n",
       " 8: 105,\n",
       " 9: 105,\n",
       " 10: 105,\n",
       " 11: 120,\n",
       " 12: 120,\n",
       " 13: 120,\n",
       " 14: 117,\n",
       " 15: 117,\n",
       " 16: 117,\n",
       " 17: 117,\n",
       " 18: 130,\n",
       " 19: 130,\n",
       " 20: 130,\n",
       " 21: 130,\n",
       " 22: 130,\n",
       " 23: 130,\n",
       " 24: 130}"
      ]
     },
     "execution_count": 33,
     "metadata": {},
     "output_type": "execute_result"
    }
   ],
   "source": [
    "all_dates = [1, 2, 3, 4, 5, 6, 7, 8, 9, 10, 11, 12, 13, 14, 15, 16, 17, 18, 19, 20, 21, 22, 23, 24]\n",
    "\n",
    "allDateCash(cash, all_dates)"
   ]
  },
  {
   "cell_type": "markdown",
   "metadata": {},
   "source": [
    "Stock Price Update"
   ]
  },
  {
   "cell_type": "code",
   "execution_count": 34,
   "metadata": {},
   "outputs": [],
   "source": [
    "def StockPriceUpdate(stockPrice, stockDate, updateAPI):\n",
    "    # created a stockPrice_dict for stockDate & corrosponding stockPrice added \n",
    "    stockPrice_dict = {}\n",
    "    for i in range(len(stockDate)):\n",
    "        stockPrice_dict[stockDate[i]] = stockPrice[i]\n",
    "\n",
    "    print(stockPrice_dict)\n",
    "    # updating stock prices from API feed\n",
    "    for key in updateAPI:\n",
    "        stockPrice_dict[key] = updateAPI[key]\n",
    "            \n",
    "    print(stockPrice_dict)\n",
    "    \n",
    "    # return stockPrice_dict"
   ]
  },
  {
   "cell_type": "code",
   "execution_count": 35,
   "metadata": {},
   "outputs": [
    {
     "name": "stdout",
     "output_type": "stream",
     "text": [
      "{2: 18, 3: 11, 4: 16, 5: 12, 6: 6, 7: 18, 8: 18, 9: 11, 10: 10, 11: 18}\n",
      "{2: 18, 3: 11, 4: 16, 5: 12, 6: 6, 7: 18, 8: 18, 9: 11, 10: 10, 11: 15, 12: 22, 13: 19}\n"
     ]
    }
   ],
   "source": [
    "stockPrice = [18, 11, 16, 12, 6, 18, 18, 11, 10, 18]\n",
    "stockDate = [2, 3, 4, 5, 6, 7, 8, 9, 10, 11]\n",
    "\n",
    "stock_price = {\n",
    "    1: {\n",
    "        'stock_id': 1,\n",
    "        'date': 1,\n",
    "        'closing_price': 45\n",
    "    }\n",
    "}\n",
    "\n",
    "updateAPI = {11: 15, 12: 22, 13: 19}\n",
    "\n",
    "StockPriceUpdate(stockPrice, stockDate, updateAPI)"
   ]
  },
  {
   "cell_type": "code",
   "execution_count": 36,
   "metadata": {},
   "outputs": [],
   "source": [
    "basket_holding = {\n",
    "    1: {\n",
    "        'basket_id': 1,\n",
    "        'stock_id': 23,\n",
    "        'buy_date': 2,\n",
    "        'buy_price': 510,\n",
    "        'buy_qty': 10,\n",
    "        'buy_amount': 5100,\n",
    "        \n",
    "        'sell_date': 20,\n",
    "        'sell_price': 810,\n",
    "        'buy_qty': 10,\n",
    "        'sell_amount': 8100,\n",
    "\n",
    "        'is_open': False\n",
    "\n",
    "    }\n",
    "}"
   ]
  },
  {
   "cell_type": "code",
   "execution_count": 37,
   "metadata": {},
   "outputs": [],
   "source": [
    "basket_price = {\n",
    "    1: {\n",
    "        'basket_id': 1,\n",
    "        'date': 2,\n",
    "        'stock_value': 1500,\n",
    "        'cash_value': 50,\n",
    "        'total_value': 1550\n",
    "\n",
    "    }\n",
    "}"
   ]
  }
 ],
 "metadata": {
  "kernelspec": {
   "display_name": "Python 3.10.5 64-bit (microsoft store)",
   "language": "python",
   "name": "python3"
  },
  "language_info": {
   "codemirror_mode": {
    "name": "ipython",
    "version": 3
   },
   "file_extension": ".py",
   "mimetype": "text/x-python",
   "name": "python",
   "nbconvert_exporter": "python",
   "pygments_lexer": "ipython3",
   "version": "3.10.5"
  },
  "orig_nbformat": 4,
  "vscode": {
   "interpreter": {
    "hash": "d4f3e11e2836f35932dc1a63fc1e1ad4837c0ab0c25aa80f2018a328ee87e0d8"
   }
  }
 },
 "nbformat": 4,
 "nbformat_minor": 2
}
