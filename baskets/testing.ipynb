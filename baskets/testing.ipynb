{
 "cells": [
  {
   "cell_type": "markdown",
   "metadata": {},
   "source": [
    "Cash updates"
   ]
  },
  {
   "cell_type": "code",
   "execution_count": 119,
   "metadata": {},
   "outputs": [],
   "source": [
    "def allDateCash(cash_entry, cash_dates, all_dates):\n",
    "    # created a cash_dict for cash_dates & corrosponding cash added as list to it\n",
    "    cash_dict = {}\n",
    "    for i in range(len(cash_dates)):\n",
    "        if cash_dates[i] not in cash_dict:\n",
    "            cash_dict[cash_dates[i]] = [cash_entry[i]]\n",
    "        else:\n",
    "            cash_dict[cash_dates[i]] += [cash_entry[i]]\n",
    "\n",
    "    # created cashEOD_dict for cash_dates with corrosponding EOD cash value for that date\n",
    "    # Now each date will have 1 EOD cash value\n",
    "    cashEOD_dict = {}\n",
    "    for key in cash_dict:\n",
    "        cashEOD_dict[key] = cash_dict[key][-1]\n",
    "\n",
    "    # created a allDate_dict for all_dates where if we have cash value for date as per cashEOD_dict\n",
    "    # then it will store cash value for it else, for next date onwards it will store\n",
    "    # previous cash value.. Mimicking a Bank statement \n",
    "    # if previous cash is not found that it's 0\n",
    "    allDate_dict = {}\n",
    "    for j in all_dates:\n",
    "        if j in cashEOD_dict:\n",
    "            allDate_dict[j] = cashEOD_dict[j]\n",
    "        else:\n",
    "            try:\n",
    "                allDate_dict[j] = allDate_dict[j - 1]\n",
    "            except:\n",
    "                allDate_dict[j] = 0\n",
    "\n",
    "    # print(cash_dict)\n",
    "    # print(cashEOD_dict)\n",
    "    # print(allDate_dict, end=\"\")\n",
    "    return allDate_dict"
   ]
  },
  {
   "cell_type": "code",
   "execution_count": 120,
   "metadata": {},
   "outputs": [
    {
     "data": {
      "text/plain": [
       "{1: 0,\n",
       " 2: 102,\n",
       " 3: 102,\n",
       " 4: 102,\n",
       " 5: 95,\n",
       " 6: 95,\n",
       " 7: 105,\n",
       " 8: 105,\n",
       " 9: 105,\n",
       " 10: 105,\n",
       " 11: 120,\n",
       " 12: 120,\n",
       " 13: 120,\n",
       " 14: 117,\n",
       " 15: 117,\n",
       " 16: 117,\n",
       " 17: 117,\n",
       " 18: 125,\n",
       " 19: 125,\n",
       " 20: 125,\n",
       " 21: 125,\n",
       " 22: 125,\n",
       " 23: 125,\n",
       " 24: 125}"
      ]
     },
     "execution_count": 120,
     "metadata": {},
     "output_type": "execute_result"
    }
   ],
   "source": [
    "cash_entry = [ 100, 102, 95, 105, 115, 105, 120, 122, 117, 120, 125]\n",
    "cash_dates = [2, 2, 5, 7, 7, 7, 11, 14, 14, 18, 18]\n",
    "all_dates = [1, 2, 3, 4, 5, 6, 7, 8, 9, 10, 11, 12, 13, 14, 15, 16, 17, 18, 19, 20, 21, 22, 23, 24]\n",
    "\n",
    "allDateCash(cash_entry, cash_dates, all_dates)"
   ]
  },
  {
   "cell_type": "markdown",
   "metadata": {},
   "source": [
    "Stock Price Update"
   ]
  },
  {
   "cell_type": "code",
   "execution_count": 121,
   "metadata": {},
   "outputs": [],
   "source": [
    "def StockPriceUpdate(stockPrice, stockDate, updateAPI):\n",
    "    # created a stockPrice_dict for stockDate & corrosponding stockPrice added \n",
    "    stockPrice_dict = {}\n",
    "    for i in range(len(stockDate)):\n",
    "        stockPrice_dict[stockDate[i]] = stockPrice[i]\n",
    "\n",
    "    print(stockPrice_dict)\n",
    "    # updating stock prices from API feed\n",
    "    for key in updateAPI:\n",
    "        stockPrice_dict[key] = updateAPI[key]\n",
    "            \n",
    "    print(stockPrice_dict)\n",
    "    \n",
    "    # return stockPrice_dict"
   ]
  },
  {
   "cell_type": "code",
   "execution_count": 122,
   "metadata": {},
   "outputs": [
    {
     "name": "stdout",
     "output_type": "stream",
     "text": [
      "{2: 18, 3: 11, 4: 16, 5: 12, 6: 6, 7: 18, 8: 18, 9: 11, 10: 10, 11: 18}\n",
      "{2: 18, 3: 11, 4: 16, 5: 12, 6: 6, 7: 18, 8: 18, 9: 11, 10: 10, 11: 15, 12: 22, 13: 19}\n"
     ]
    }
   ],
   "source": [
    "stockPrice = [18, 11, 16, 12, 6, 18, 18, 11, 10, 18]\n",
    "stockDate = [2, 3, 4, 5, 6, 7, 8, 9, 10, 11]\n",
    "\n",
    "updateAPI = {11: 15, 12: 22, 13: 19}\n",
    "\n",
    "StockPriceUpdate(stockPrice, stockDate, updateAPI)"
   ]
  }
 ],
 "metadata": {
  "kernelspec": {
   "display_name": "Python 3.10.5 64-bit (microsoft store)",
   "language": "python",
   "name": "python3"
  },
  "language_info": {
   "codemirror_mode": {
    "name": "ipython",
    "version": 3
   },
   "file_extension": ".py",
   "mimetype": "text/x-python",
   "name": "python",
   "nbconvert_exporter": "python",
   "pygments_lexer": "ipython3",
   "version": "3.10.5"
  },
  "orig_nbformat": 4,
  "vscode": {
   "interpreter": {
    "hash": "d4f3e11e2836f35932dc1a63fc1e1ad4837c0ab0c25aa80f2018a328ee87e0d8"
   }
  }
 },
 "nbformat": 4,
 "nbformat_minor": 2
}
